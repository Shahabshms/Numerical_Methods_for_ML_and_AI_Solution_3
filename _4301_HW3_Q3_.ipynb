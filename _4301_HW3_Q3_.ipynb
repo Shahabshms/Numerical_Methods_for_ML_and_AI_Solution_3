{
  "nbformat": 4,
  "nbformat_minor": 0,
  "metadata": {
    "colab": {
      "name": " -- 4301 -- HW3 -- Q3 --.ipynb",
      "provenance": [],
      "authorship_tag": "ABX9TyNh7OUsVyPxE2NpGSkCXa0E",
      "include_colab_link": true
    },
    "kernelspec": {
      "name": "python3",
      "display_name": "Python 3"
    }
  },
  "cells": [
    {
      "cell_type": "markdown",
      "metadata": {
        "id": "view-in-github",
        "colab_type": "text"
      },
      "source": [
        "<a href=\"https://colab.research.google.com/github/Shahabshms/Numerical_Methods_for_ML_and_AI_Solution_3/blob/main/_4301_HW3_Q3_.ipynb\" target=\"_parent\"><img src=\"https://colab.research.google.com/assets/colab-badge.svg\" alt=\"Open In Colab\"/></a>"
      ]
    },
    {
      "cell_type": "markdown",
      "metadata": {
        "id": "brgH_2n-T06s"
      },
      "source": [
        "In Python, implement the power iteration method to find the eigenvalue of maximum magnitude of a matrix $A \\in\\mathbb{R}^{n\\times n}$. Your function should take in the matrix $A$, the initial guess $x^{(0)}$, and the number of iterations to perform."
      ]
    },
    {
      "cell_type": "code",
      "metadata": {
        "id": "DUBI6VDzTrnE"
      },
      "source": [
        "def power_iteration(initial_v,A):\n",
        "\n",
        "  v = initial_v\n",
        "  condition = 10000\n",
        "  while condition:\n",
        "    Av = np.matmul(A,v)\n",
        "    v = Av / np.linalg.norm(Av)\n",
        "    condition-=1\n",
        "\n",
        "  return v"
      ],
      "execution_count": null,
      "outputs": []
    },
    {
      "cell_type": "code",
      "metadata": {
        "id": "DixagrW_U0B8",
        "colab": {
          "base_uri": "https://localhost:8080/"
        },
        "outputId": "784e1bfa-583f-4ae8-bf4d-40634ece10cb"
      },
      "source": [
        "import numpy as np\n",
        "A = np.array([[5,-1],[-1,5]])\n",
        "\n",
        "initail_v = np.array([2,7])\n",
        "\n",
        "v = power_iteration(initail_v,A)\n",
        "print(v)\n",
        "print(np.linalg.eigvals(A))\n",
        "print(\"The result obtained from the power iteration method is %d\",np.matmul(np.matmul(v,A),v))\n",
        "print(\"The result obtained from the np.linalg.eigvals is %d\",max(np.linalg.eigvals(A))) \n",
        "print('------------')\n",
        "\n",
        "# Now if we pick the initial point perpendicular to the resulted vector,\n",
        "# you can see why we should make sure that the initial point is not perpendicular \n",
        "# to the eigenvalue corresponding to the maximum eigenvalue. \n",
        "initail_v = np.array([1,1])\n",
        "v = power_iteration(initail_v,A)\n",
        "print(v)\n",
        "print(np.linalg.eigvals(A))\n",
        "print(\"The result obtained from the power iteration method is %d\",np.matmul(np.matmul(v,A),v))\n",
        "print(\"The result obtained from the np.linalg.eigvals is %d\",max(np.linalg.eigvals(A))) \n",
        "\n",
        "\n"
      ],
      "execution_count": null,
      "outputs": [
        {
          "output_type": "stream",
          "text": [
            "[-0.70710678  0.70710678]\n",
            "[6. 4.]\n",
            "The result obtained from the power iteration method is %d 6.0\n",
            "The result obtained from the np.linalg.eigvals is %d 6.0\n",
            "------------\n",
            "[0.70710678 0.70710678]\n",
            "[6. 4.]\n",
            "The result obtained from the power iteration method is %d 4.000000000000001\n",
            "The result obtained from the np.linalg.eigvals is %d 6.0\n"
          ],
          "name": "stdout"
        }
      ]
    }
  ]
}