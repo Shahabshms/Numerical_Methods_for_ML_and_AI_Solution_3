{
  "nbformat": 4,
  "nbformat_minor": 0,
  "metadata": {
    "colab": {
      "name": "-- 4301 -- HW3 -- Q2.2 -- .ipynb",
      "provenance": [],
      "authorship_tag": "ABX9TyPA29yNcZ0lySkXPjQ2rE9w",
      "include_colab_link": true
    },
    "kernelspec": {
      "name": "python3",
      "display_name": "Python 3"
    }
  },
  "cells": [
    {
      "cell_type": "markdown",
      "metadata": {
        "id": "view-in-github",
        "colab_type": "text"
      },
      "source": [
        "<a href=\"https://colab.research.google.com/github/Shahabshms/Numerical_Methods_for_ML_and_AI_Solution_3/blob/main/_4301_HW3_Q2_2_.ipynb\" target=\"_parent\"><img src=\"https://colab.research.google.com/assets/colab-badge.svg\" alt=\"Open In Colab\"/></a>"
      ]
    },
    {
      "cell_type": "markdown",
      "metadata": {
        "id": "zo6RjqIadusm"
      },
      "source": [
        "Implement the interior point method in Python for the above problem. Your function should take as input the initial guess $x^{(0)}$, $\\delta^{(0)}$, $\\rho$, the number of iterations $t$ of the interior point method to perform, and a threshold $\\epsilon > 0$ for the convergence of Newton’s method. It should return the vector $x^{(t)}$. For Newton’s method, you should terminate if $.5(x^*)^T H(x^{(t)})x^* \\leq \\epsilon$, where $x^*$ is the solution to the Newton subproblem at $x^{(t)}$, see Slide 7 33."
      ]
    },
    {
      "cell_type": "markdown",
      "metadata": {
        "id": "IGdLFFlogXbZ"
      },
      "source": [
        "Define $h(\\lambda) = \\frac{\\delta}{2}\\Vert q - \\sum_{m=1}^M \\lambda_m x^{(m)}\\Vert_2^2 - \\sum_{m=1}^M\\log(\\lambda_m)$. \n",
        "\n",
        "\n",
        "\n"
      ]
    },
    {
      "cell_type": "markdown",
      "metadata": {
        "id": "SB_EICo2gkZB"
      },
      "source": [
        "Now\n",
        "\\begin{align*}\n",
        "    \\frac{\\partial h(\\lambda)}{\\partial \\lambda_k} = \\frac{\\delta}{2} \\sum_{i=1}^n 2(q_i - \\sum_{m=1}^M \\lambda_{m}x_i^{(m)})(-x_i^{k}) - \\frac{1}{\\lambda_k}\n",
        "\\end{align*}\n",
        "\\begin{align*}\n",
        "    \\nabla_\\lambda h(\\lambda) = \\left[ -\\delta\\sum_{i=1}^n x_i^{(1)}(q_i - \\sum_{m=1}^M \\lambda_mx_i^{(m)}) -\\frac{1}{\\lambda_1};\\dots; -\\delta\\sum_{i=1}^n x_i^{(M)}(q_i - \\sum_{m=1}^M \\lambda_mx_i^{(m)}) -\\frac{1}{\\lambda_M} \\right]\n",
        "\\end{align*}"
      ]
    },
    {
      "cell_type": "code",
      "metadata": {
        "id": "h5VD0_rEiZBU"
      },
      "source": [
        "def get_gradient(lambd_a,delta):\n",
        "\n",
        "  gradient = np.zeros([M,1])\n",
        "  for j in range(M):\n",
        "    sum_n = 0\n",
        "    for i in range(n):\n",
        "      sum_m = 0\n",
        "      for m in range(M):\n",
        "        sum_m += lambd_a[m]*x[m][i]\n",
        "\n",
        "      sum_n += x[j][i] * (q[i] - sum_m)\n",
        "\n",
        "    gradient[j] = - delta * sum_n - 1/lambd_a[j]\n",
        "\n",
        "  return gradient"
      ],
      "execution_count": null,
      "outputs": []
    },
    {
      "cell_type": "markdown",
      "metadata": {
        "id": "2soIM-V1gpJ6"
      },
      "source": [
        "\\begin{align*}\n",
        "    H_h(\\lambda) = \\left[\\begin{array}{ccc}\n",
        "         \\delta\\sum_{i=1}^n {x_i^{(1)}}^2 + \\cfrac{1}{\\lambda_1^2}&\\dots&\\delta\\sum_{i=1}^n x_i^{(1)}x^{(M)}_i \\\\\n",
        "         \\vdots&\\ddots&\\vdots\\\\\n",
        "         \\delta\\sum_{i=1}^n x_i^{(M)}x^{(1)}_i&\\dots&\\delta\\sum_{i=1}^n {x_i^{(M)}}^2 + \\cfrac{1}{\\lambda_M^2}\n",
        "    \\end{array}\\right]\n",
        "\\end{align*}"
      ]
    },
    {
      "cell_type": "code",
      "metadata": {
        "id": "L7lPsjSjiZKv"
      },
      "source": [
        "def get_hessian(lambd_a,delta):\n",
        "  hessian = np.zeros([M,M])\n",
        "  for i in range(M):\n",
        "    for j in range(M):\n",
        "      if i == j:\n",
        "        hessian[i][j] = delta * np.matmul(x[i],np.transpose(x[j])) + 1/(lambd_a[i]**2)\n",
        "      else:\n",
        "        hessian[i][j] = delta * np.matmul(x[i],np.transpose(x[j]))\n",
        "\n",
        "  return hessian"
      ],
      "execution_count": null,
      "outputs": []
    },
    {
      "cell_type": "markdown",
      "metadata": {
        "id": "uTpCgoE_gv2c"
      },
      "source": [
        "And since this is a constrained problem \n",
        "\\begin{align*}\n",
        "\\left[\\begin{array}{cc}\n",
        "         H_h(\\lambda_t)&A^T \\\\\n",
        "         A&0\n",
        "    \\end{array}\\right] \\left[\\begin{array}{c}\n",
        "         \\lambda^*  \\\\\n",
        "         \\nu^*\n",
        "    \\end{array}\\right] = \\left[\\begin{array}{c}\n",
        "         -\\nabla_\\lambda h(\\lambda_t)\\\\\n",
        "         0\n",
        "    \\end{array}\\right]\n",
        "\\end{align*}\n",
        "\n",
        "At each step of the Newton method, the update is \n",
        "\\begin{align*}\n",
        "    \\lambda^{(t+1)} = \\lambda^{(t)} + \\gamma\\lambda^* \n",
        "\\end{align*}\n"
      ]
    },
    {
      "cell_type": "code",
      "metadata": {
        "id": "eBvfmXNjth2W"
      },
      "source": [
        "def Newton_method(lambd_a,delta,epsilon):\n",
        "\n",
        "  while True:\n",
        "\n",
        "    gamma = 0.05\n",
        "\n",
        "    geradient = get_gradient(lambd_a,delta)\n",
        "    hessian = get_hessian(lambd_a,delta)\n",
        "\n",
        "    left_hand_side_mat = np.block([[hessian,np.transpose(A)],[A,0]])\n",
        "    right_hand_side_mat = np.block([[-geradient],[0]])\n",
        "    ans = np.linalg.solve(left_hand_side_mat,right_hand_side_mat)\n",
        "    lambda_star = ans[:-1]\n",
        "    nu_star = ans[-1]\n",
        "\n",
        "    lambd_a = lambd_a + gamma * lambda_star\n",
        "\n",
        "    if 0.5 * np.matmul(np.matmul(np.transpose(lambda_star),hessian),lambda_star) < epsilon:\n",
        "      break\n",
        "\n",
        "  return lambd_a"
      ],
      "execution_count": null,
      "outputs": []
    },
    {
      "cell_type": "markdown",
      "metadata": {
        "id": "80CixN-gg44F"
      },
      "source": [
        "Then the steps of the interior points are :\n",
        "$$\\lambda^* \\in \\text{argmin}_{\\lambda\\in\\mathbb{R}^n\\text{ s.t. } A\\lambda=b}\\left[ h(\\lambda )\\right] $$\n",
        "$$ \\lambda^{(t+1)} = \\lambda^* $$\n",
        "$$\\delta^{(t+1)} = \\rho \\delta^{(t)}$$"
      ]
    },
    {
      "cell_type": "code",
      "metadata": {
        "id": "aToj3-OmuUgU"
      },
      "source": [
        "def interior_point(initial_lambda,rho,delta,epsilon):\n",
        "\n",
        "  lambd_a = initial_lambda\n",
        "  for iteration in range(max_iterations):\n",
        "\n",
        "    lambd_a = Newton_method(lambd_a,delta,epsilon)\n",
        "    delta = rho * delta\n",
        "\n",
        "  return lambd_a"
      ],
      "execution_count": null,
      "outputs": []
    },
    {
      "cell_type": "code",
      "metadata": {
        "id": "4mxoCW00j7yv",
        "colab": {
          "base_uri": "https://localhost:8080/"
        },
        "outputId": "5d65404d-7720-4798-8c92-afb9b2d72479"
      },
      "source": [
        "import numpy as np\n",
        "import math\n",
        "\n",
        "n = 2\n",
        "M = 4\n",
        "x = np.array([[-1,-1],[-1,1],[1,-1],[1,1]])\n",
        "q = np.array([1.7,1.2])\n",
        "A = np.ones([1,M])\n",
        "b = 1\n",
        "initial_lambda = np.ones([M,1])/M\n",
        "max_iterations = 200\n",
        "rho = 1.2\n",
        "delta = 1.2\n",
        "epsilon = 0.5\n",
        "\n",
        "final_lambda = interior_point(initial_lambda,rho,delta,epsilon)\n",
        "\n",
        "print(final_lambda)\n",
        "\n",
        "point = np.zeros(n)\n",
        "for m in range(M):\n",
        "  point+= final_lambda[m] * x[m]\n",
        "\n",
        "print(point)\n"
      ],
      "execution_count": null,
      "outputs": [
        {
          "output_type": "stream",
          "text": [
            "[[1.23464627e-16]\n",
            " [1.58740235e-16]\n",
            " [5.55590823e-16]\n",
            " [1.00000000e+00]]\n",
            "[1. 1.]\n"
          ],
          "name": "stdout"
        }
      ]
    }
  ]
}